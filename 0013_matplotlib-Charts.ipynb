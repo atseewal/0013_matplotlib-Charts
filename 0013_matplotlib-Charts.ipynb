{
 "cells": [
  {
   "cell_type": "markdown",
   "metadata": {},
   "source": [
    "# Pretty Matplotlib Charts\n",
    "\n",
    "The goal of this notebook is to capture the [LinkedIn Post](https://www.linkedin.com/feed/update/urn:li:activity:7206997957605249024/) and [Blog post/tutorial](https://python-graph-gallery.com/web-map-with-custom-legend/) from Yan Holtz on creating really good looking `matplotlib` maps.\n",
    "\n",
    "The idea is that creating maps is a very iterative process that involves many steps to get to a publication ready map."
   ]
  },
  {
   "cell_type": "markdown",
   "metadata": {},
   "source": [
    "## My Map\n",
    "\n",
    "For my map, I will be creating a max temp by county map using data from the National Weather Service (NWS). The data comes from NOWData - NOAA Online Weather Data. Each county's maximum temperature from the week of 6/16/24 - 6/22/2024 from a weather station in each county.\n",
    "\n",
    "To keep the map looking really clean, I want to focus on counties in Southeast Michigan. This includes Huron, Tuscola, Sanilac, Genesee, Lapeer, St. Clair, Macomb, Oakland, Livingston, Ingham, Washtenaw, Wayne, Lenawee, and Monroe counties."
   ]
  },
  {
   "cell_type": "markdown",
   "metadata": {},
   "source": [
    "## Loading the Data\n",
    "\n",
    "For the first itration of the project, all data is manually gathered. This reflects the reality of how data is often gathered in the real world. It isn't ideal long term, but it happens, it gets projects going, and it gets results.\n",
    "\n",
    "The data will be loaded into `pandas` data frames to make it easy to join to the geometry later for mapping."
   ]
  },
  {
   "cell_type": "code",
   "execution_count": 4,
   "metadata": {},
   "outputs": [],
   "source": [
    "import pandas as pd\n",
    "\n",
    "temperatures = pd.DataFrame({\n",
    "    'County': ['Huron', 'Tuscola', 'Sanilac', 'Genesee',\n",
    "               'Lapeer', 'St. Clair', 'Macomb', 'Oakland',\n",
    "               'Livingston', 'Ingham', 'Washtenaw', 'Wayne',\n",
    "               'Lenawee', 'Monroe',],\n",
    "    'Weather Station City': ['Bad Axe', 'Caro', 'Sandusky', 'Flint',\n",
    "                             'Lapeer', 'Yale', 'Mt. Clemens', 'Pontiac',\n",
    "                             'Howell', 'East Lansing', 'Chelsea', 'Detroit',\n",
    "                             'Adrian', None,],\n",
    "    'Max Temp': [92, 92, None, None,\n",
    "                 92, None, None, 93,\n",
    "                 None, None, 93, 96,\n",
    "                 94, None,],\n",
    "})"
   ]
  },
  {
   "cell_type": "markdown",
   "metadata": {},
   "source": [
    "Again with real world data, sometimes you just don't have the values you are looking for. In this case, there wasn't historic data for a weather station from this source available for Monroe county. Other sites just didn't have any data available for June 2024.\n",
    "\n",
    "It's worth looking into how to get this information from other sources to have a more complete data set to work with, but having missing data also gives us a more interesting challenge when mapping, how to make these look good while displaying the missing county data."
   ]
  }
 ],
 "metadata": {
  "kernelspec": {
   "display_name": ".venv",
   "language": "python",
   "name": "python3"
  },
  "language_info": {
   "codemirror_mode": {
    "name": "ipython",
    "version": 3
   },
   "file_extension": ".py",
   "mimetype": "text/x-python",
   "name": "python",
   "nbconvert_exporter": "python",
   "pygments_lexer": "ipython3",
   "version": "3.12.4"
  }
 },
 "nbformat": 4,
 "nbformat_minor": 2
}
