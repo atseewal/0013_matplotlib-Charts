{
 "cells": [
  {
   "cell_type": "markdown",
   "metadata": {},
   "source": [
    "# Pretty Matplotlib Charts\n",
    "\n",
    "The goal of this notebook is to capture the [LinkedIn Post](https://www.linkedin.com/feed/update/urn:li:activity:7206997957605249024/) and [Blog post/tutorial](https://python-graph-gallery.com/web-map-with-custom-legend/) from Yan Holtz on creating really good looking `matplotlib` maps.\n",
    "\n",
    "The idea is that creating maps is a very iterative process that involves many steps to get to a publication ready map."
   ]
  },
  {
   "cell_type": "markdown",
   "metadata": {},
   "source": [
    "## My Map\n",
    "\n",
    "For my map, I will be creating a max temp by county map using data from the National Weather Service (NWS). The data comes from NOWData - NOAA Online Weather Data. Each county's maximum temperature from the week of 6/16/24 - 6/22/2024 from a weather station in each county.\n",
    "\n",
    "To keep the map looking really clean, I want to focus on counties in Southeast Michigan. This includes Huron, Tuscola, Sanilac, Genesee, Lapeer, St. Clair, Macomb, Oakland, Livingston, Ingham, Washtenaw, Wayne, Lenawee, and Monroe counties."
   ]
  },
  {
   "cell_type": "markdown",
   "metadata": {},
   "source": [
    "## Loading the Weather Data\n",
    "\n",
    "For the first itration of the project, all data is manually gathered. This reflects the reality of how data is often gathered in the real world. It isn't ideal long term, but it happens, it gets projects going, and it gets results.\n",
    "\n",
    "The data will be loaded into `pandas` data frames to make it easy to join to the geometry later for mapping."
   ]
  },
  {
   "cell_type": "code",
   "execution_count": 2,
   "metadata": {},
   "outputs": [],
   "source": [
    "import pandas as pd\n",
    "\n",
    "temperatures = pd.DataFrame({\n",
    "    'County': ['Huron', 'Tuscola', 'Sanilac', 'Genesee',\n",
    "               'Lapeer', 'St. Clair', 'Macomb', 'Oakland',\n",
    "               'Livingston', 'Ingham', 'Washtenaw', 'Wayne',\n",
    "               'Lenawee', 'Monroe',],\n",
    "    'Weather Station City': ['Bad Axe', 'Caro', 'Sandusky', 'Flint',\n",
    "                             'Lapeer', 'Yale', 'Mt. Clemens', 'Pontiac',\n",
    "                             'Howell', 'East Lansing', 'Chelsea', 'Detroit',\n",
    "                             'Adrian', None,],\n",
    "    'Max Temp': [92, 92, None, None,\n",
    "                 92, None, None, 93,\n",
    "                 None, None, 93, 96,\n",
    "                 94, None,],\n",
    "})"
   ]
  },
  {
   "cell_type": "markdown",
   "metadata": {},
   "source": [
    "Again with real world data, sometimes you just don't have the values you are looking for. In this case, there wasn't historic data for a weather station from this source available for Monroe county. Other sites just didn't have any data available for June 2024.\n",
    "\n",
    "It's worth looking into how to get this information from other sources to have a more complete data set to work with, but having missing data also gives us a more interesting challenge when mapping, how to make these look good while displaying the missing county data."
   ]
  },
  {
   "cell_type": "markdown",
   "metadata": {},
   "source": [
    "## Loading the Geographic data\n",
    "\n",
    "To map this data, we're going to need to load the boundaries for the michigan counties that have been selected. These are readily available to be loaded directly from the state of Michigan's GIS portal. The geojson can be loaded directly from the endpoint.\n",
    "\n",
    "To get the data from any ArcGIS based GIS portal, you can go to the about page for the layer. For example in [Counties (v17a)](https://gis-michigan.opendata.arcgis.com/datasets/67a8ff23b5f54f15b7133b8c30981441_0/about), in the **I want to...** section, there is a **View API Resources** menu. Copying the **GeoJSON** URL is what will allow us to load this layer into Python."
   ]
  },
  {
   "attachments": {
    "image.png": {
     "image/png": "[encoded data removed]"
    }
   },
   "cell_type": "markdown",
   "metadata": {},
   "source": [
    "![image.png](attachment:image.png)"
   ]
  },
  {
   "cell_type": "code",
   "execution_count": 3,
   "metadata": {},
   "outputs": [],
   "source": [
    "import geopandas as gpd\n",
    "\n",
    "mi_counties_url = 'https://gisagocss.state.mi.us/arcgis/rest/services/OpenData/michigan_geographic_framework/MapServer/0/query?outFields=*&where=1%3D1&f=geojson'\n",
    "\n",
    "county_boundaries = gpd.read_file(mi_counties_url)"
   ]
  },
  {
   "cell_type": "markdown",
   "metadata": {},
   "source": [
    "There are a lot of extra columns that we don't really need in the county shape file. The main ones are the names and the geometry for the actual shape to plot it."
   ]
  },
  {
   "cell_type": "code",
   "execution_count": 7,
   "metadata": {},
   "outputs": [
    {
     "data": {
      "text/html": [
       "<div>\n",
       "<style scoped>\n",
       "    .dataframe tbody tr th:only-of-type {\n",
       "        vertical-align: middle;\n",
       "    }\n",
       "\n",
       "    .dataframe tbody tr th {\n",
       "        vertical-align: top;\n",
       "    }\n",
       "\n",
       "    .dataframe thead th {\n",
       "        text-align: right;\n",
       "    }\n",
       "</style>\n",
       "<table border=\"1\" class=\"dataframe\">\n",
       "  <thead>\n",
       "    <tr style=\"text-align: right;\">\n",
       "      <th></th>\n",
       "      <th>NAME</th>\n",
       "      <th>LABEL</th>\n",
       "      <th>geometry</th>\n",
       "    </tr>\n",
       "  </thead>\n",
       "  <tbody>\n",
       "    <tr>\n",
       "      <th>0</th>\n",
       "      <td>Alcona</td>\n",
       "      <td>Alcona County</td>\n",
       "      <td>POLYGON ((-83.88712 44.55385, -83.88711 44.552...</td>\n",
       "    </tr>\n",
       "    <tr>\n",
       "      <th>1</th>\n",
       "      <td>Alger</td>\n",
       "      <td>Alger County</td>\n",
       "      <td>MULTIPOLYGON (((-87.11602 46.27726, -87.11600 ...</td>\n",
       "    </tr>\n",
       "    <tr>\n",
       "      <th>2</th>\n",
       "      <td>Allegan</td>\n",
       "      <td>Allegan County</td>\n",
       "      <td>POLYGON ((-85.54343 42.42905, -85.54343 42.430...</td>\n",
       "    </tr>\n",
       "    <tr>\n",
       "      <th>3</th>\n",
       "      <td>Alpena</td>\n",
       "      <td>Alpena County</td>\n",
       "      <td>MULTIPOLYGON (((-83.34340 44.88554, -83.34361 ...</td>\n",
       "    </tr>\n",
       "    <tr>\n",
       "      <th>4</th>\n",
       "      <td>Antrim</td>\n",
       "      <td>Antrim County</td>\n",
       "      <td>MULTIPOLYGON (((-84.84877 44.93222, -84.84878 ...</td>\n",
       "    </tr>\n",
       "  </tbody>\n",
       "</table>\n",
       "</div>"
      ],
      "text/plain": [
       "      NAME           LABEL                                           geometry\n",
       "0   Alcona   Alcona County  POLYGON ((-83.88712 44.55385, -83.88711 44.552...\n",
       "1    Alger    Alger County  MULTIPOLYGON (((-87.11602 46.27726, -87.11600 ...\n",
       "2  Allegan  Allegan County  POLYGON ((-85.54343 42.42905, -85.54343 42.430...\n",
       "3   Alpena   Alpena County  MULTIPOLYGON (((-83.34340 44.88554, -83.34361 ...\n",
       "4   Antrim   Antrim County  MULTIPOLYGON (((-84.84877 44.93222, -84.84878 ..."
      ]
     },
     "execution_count": 7,
     "metadata": {},
     "output_type": "execute_result"
    }
   ],
   "source": [
    "county_boundaries = county_boundaries[['NAME', 'LABEL', 'geometry']]\n",
    "county_boundaries.head()"
   ]
  },
  {
   "cell_type": "markdown",
   "metadata": {},
   "source": [
    "## Filtering for My Counties\n",
    "\n",
    "I'm just going to use a left join from my counties to the geographies. This will keep only the counties in my temperature data frame."
   ]
  },
  {
   "cell_type": "code",
   "execution_count": 9,
   "metadata": {},
   "outputs": [
    {
     "data": {
      "text/html": [
       "<div>\n",
       "<style scoped>\n",
       "    .dataframe tbody tr th:only-of-type {\n",
       "        vertical-align: middle;\n",
       "    }\n",
       "\n",
       "    .dataframe tbody tr th {\n",
       "        vertical-align: top;\n",
       "    }\n",
       "\n",
       "    .dataframe thead th {\n",
       "        text-align: right;\n",
       "    }\n",
       "</style>\n",
       "<table border=\"1\" class=\"dataframe\">\n",
       "  <thead>\n",
       "    <tr style=\"text-align: right;\">\n",
       "      <th></th>\n",
       "      <th>County</th>\n",
       "      <th>Weather Station City</th>\n",
       "      <th>Max Temp</th>\n",
       "      <th>NAME</th>\n",
       "      <th>LABEL</th>\n",
       "      <th>geometry</th>\n",
       "    </tr>\n",
       "  </thead>\n",
       "  <tbody>\n",
       "    <tr>\n",
       "      <th>0</th>\n",
       "      <td>Huron</td>\n",
       "      <td>Bad Axe</td>\n",
       "      <td>92.0</td>\n",
       "      <td>Huron</td>\n",
       "      <td>Huron County</td>\n",
       "      <td>MULTIPOLYGON (((-83.43124 43.78434, -83.43146 ...</td>\n",
       "    </tr>\n",
       "    <tr>\n",
       "      <th>1</th>\n",
       "      <td>Tuscola</td>\n",
       "      <td>Caro</td>\n",
       "      <td>92.0</td>\n",
       "      <td>Tuscola</td>\n",
       "      <td>Tuscola County</td>\n",
       "      <td>MULTIPOLYGON (((-83.20227 43.32525, -83.19996 ...</td>\n",
       "    </tr>\n",
       "    <tr>\n",
       "      <th>2</th>\n",
       "      <td>Sanilac</td>\n",
       "      <td>Sandusky</td>\n",
       "      <td>NaN</td>\n",
       "      <td>Sanilac</td>\n",
       "      <td>Sanilac County</td>\n",
       "      <td>MULTIPOLYGON (((-83.09949 43.28414, -83.09198 ...</td>\n",
       "    </tr>\n",
       "    <tr>\n",
       "      <th>3</th>\n",
       "      <td>Genesee</td>\n",
       "      <td>Flint</td>\n",
       "      <td>NaN</td>\n",
       "      <td>Genesee</td>\n",
       "      <td>Genesee County</td>\n",
       "      <td>POLYGON ((-83.92764 42.88285, -83.92756 42.880...</td>\n",
       "    </tr>\n",
       "    <tr>\n",
       "      <th>4</th>\n",
       "      <td>Lapeer</td>\n",
       "      <td>Lapeer</td>\n",
       "      <td>92.0</td>\n",
       "      <td>Lapeer</td>\n",
       "      <td>Lapeer County</td>\n",
       "      <td>POLYGON ((-82.98690 42.98969, -82.98707 42.993...</td>\n",
       "    </tr>\n",
       "  </tbody>\n",
       "</table>\n",
       "</div>"
      ],
      "text/plain": [
       "    County Weather Station City  Max Temp     NAME           LABEL  \\\n",
       "0    Huron              Bad Axe      92.0    Huron    Huron County   \n",
       "1  Tuscola                 Caro      92.0  Tuscola  Tuscola County   \n",
       "2  Sanilac             Sandusky       NaN  Sanilac  Sanilac County   \n",
       "3  Genesee                Flint       NaN  Genesee  Genesee County   \n",
       "4   Lapeer               Lapeer      92.0   Lapeer   Lapeer County   \n",
       "\n",
       "                                            geometry  \n",
       "0  MULTIPOLYGON (((-83.43124 43.78434, -83.43146 ...  \n",
       "1  MULTIPOLYGON (((-83.20227 43.32525, -83.19996 ...  \n",
       "2  MULTIPOLYGON (((-83.09949 43.28414, -83.09198 ...  \n",
       "3  POLYGON ((-83.92764 42.88285, -83.92756 42.880...  \n",
       "4  POLYGON ((-82.98690 42.98969, -82.98707 42.993...  "
      ]
     },
     "execution_count": 9,
     "metadata": {},
     "output_type": "execute_result"
    }
   ],
   "source": [
    "data = pd.merge(temperatures, county_boundaries, left_on = 'County', right_on='NAME', how=\"left\")\n",
    "data.head()"
   ]
  },
  {
   "cell_type": "markdown",
   "metadata": {},
   "source": [
    "## "
   ]
  }
 ],
 "metadata": {
  "kernelspec": {
   "display_name": ".venv",
   "language": "python",
   "name": "python3"
  },
  "language_info": {
   "codemirror_mode": {
    "name": "ipython",
    "version": 3
   },
   "file_extension": ".py",
   "mimetype": "text/x-python",
   "name": "python",
   "nbconvert_exporter": "python",
   "pygments_lexer": "ipython3",
   "version": "3.12.4"
  }
 },
 "nbformat": 4,
 "nbformat_minor": 2
}
